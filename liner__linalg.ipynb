{
 "cells": [
  {
   "cell_type": "code",
   "execution_count": 1,
   "metadata": {},
   "outputs": [
    {
     "name": "stdout",
     "output_type": "stream",
     "text": [
      "[[  0.95      ]\n",
      " [-92.33333333]]\n",
      "[[50.16666667]\n",
      " [59.66666667]\n",
      " [69.16666667]]\n"
     ]
    }
   ],
   "source": [
    "import numpy as np\n",
    "from sklearn.base import BaseEstimator, RegressorMixin\n",
    "\n",
    "#オリジナルモデルの作成\n",
    "class original_liner(BaseEstimator, RegressorMixin):\n",
    "    def fit(self, X, y):\n",
    "        B=np.ones((1,X.shape[0])).T  #[[1],[1],・・・,[1]]の行列を生成\n",
    "        A=np.append(X,B,axis=1)      #[[X_1,1],[X_2,1]・・・,[X_n,1]] ↑の行列をXに結合\n",
    "        A_T = A.T #転置行列を作成\n",
    "        A_I = np.linalg.inv(np.dot(A_T,A)) #(A^T A)^-1　の行列を作成      \n",
    "        self.coef_ = np.dot(np.dot(A_I,A_T),y) #回帰係数を求め .coef_メソッドに保存\n",
    "        return self\n",
    "    \n",
    "    def predict(self ,X, y=None):\n",
    "        B=np.ones((1,X.shape[0])).T #[[1],[1],・・・,[1]]の行列を生成\n",
    "        A=np.append(X,B,axis=1)     #[[X_1,1],[X_2,1]・・・,[X_n,1]] ↑の行列を結合\n",
    "        return np.dot(A, self.coef_) #fitで保存した回帰係数coef_とXを計算してリターン\n",
    "\n",
    "#モデルオブジェクトの作成\n",
    "model = original_liner()\n",
    "X=np.array([[150],[160],[170]]) #説明変数\n",
    "y=np.array([[49],[62],[68]])    #目的変数\n",
    "model.fit(X,y)\n",
    "print(model.coef_)  #[[0.95],[-92.33333333]]\n",
    "y_pred = model.predict(X) #求めた直線に説明変数を代入\n",
    "print(y_pred)      #[[50.16666667],[59.66666667],[69.16666667]]"
   ]
  }
 ],
 "metadata": {
  "kernelspec": {
   "display_name": "Python 3",
   "language": "python",
   "name": "python3"
  },
  "language_info": {
   "codemirror_mode": {
    "name": "ipython",
    "version": 3
   },
   "file_extension": ".py",
   "mimetype": "text/x-python",
   "name": "python",
   "nbconvert_exporter": "python",
   "pygments_lexer": "ipython3",
   "version": "3.10.9"
  },
  "orig_nbformat": 4,
  "vscode": {
   "interpreter": {
    "hash": "2b6f01396a9e81c33f9d5d2cda7187380c6cada973532a8b22def0951f7fa7b2"
   }
  }
 },
 "nbformat": 4,
 "nbformat_minor": 2
}
